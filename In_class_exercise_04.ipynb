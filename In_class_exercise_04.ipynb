{
  "nbformat": 4,
  "nbformat_minor": 0,
  "metadata": {
    "kernelspec": {
      "display_name": "Python 3",
      "language": "python",
      "name": "python3"
    },
    "language_info": {
      "codemirror_mode": {
        "name": "ipython",
        "version": 3
      },
      "file_extension": ".py",
      "mimetype": "text/x-python",
      "name": "python",
      "nbconvert_exporter": "python",
      "pygments_lexer": "ipython3",
      "version": "3.8.5"
    },
    "colab": {
      "name": "In_class_exercise_04.ipynb",
      "provenance": [],
      "include_colab_link": true
    }
  },
  "cells": [
    {
      "cell_type": "markdown",
      "metadata": {
        "id": "view-in-github",
        "colab_type": "text"
      },
      "source": [
        "<a href=\"https://colab.research.google.com/github/VeerrajuP/Veerraju_INFO5731_Fall2021/blob/master/In_class_exercise_04.ipynb\" target=\"_parent\"><img src=\"https://colab.research.google.com/assets/colab-badge.svg\" alt=\"Open In Colab\"/></a>"
      ]
    },
    {
      "cell_type": "markdown",
      "metadata": {
        "id": "z6zK9h8uLdAi"
      },
      "source": [
        "# **The seventh in-class-exercise (40 points in total, 10/20/2021)**"
      ]
    },
    {
      "cell_type": "markdown",
      "metadata": {
        "id": "iTmPNpwyLdAk"
      },
      "source": [
        "Question description: Please use the text corpus you collected in your last in-class-exercise for this exercise. Perform the following tasks:"
      ]
    },
    {
      "cell_type": "markdown",
      "metadata": {
        "id": "PFwhAa2HLdAk"
      },
      "source": [
        "## (1) (15 points) Generate K topics by using LDA, the number of topics K should be decided by the coherence score, then summarize what are the topics. You may refer the code here: \n",
        "\n",
        "https://www.machinelearningplus.com/nlp/topic-modeling-gensim-python/"
      ]
    },
    {
      "cell_type": "code",
      "metadata": {
        "colab": {
          "base_uri": "https://localhost:8080/"
        },
        "id": "P7oFzae1W4e1",
        "outputId": "2620ad8e-7927-4d91-a063-da3c135af457"
      },
      "source": [
        "pip install pyLDAvis"
      ],
      "execution_count": 52,
      "outputs": [
        {
          "output_type": "stream",
          "name": "stdout",
          "text": [
            "Requirement already satisfied: pyLDAvis in /usr/local/lib/python3.7/dist-packages (2.1.2)\n",
            "Requirement already satisfied: pandas>=0.17.0 in /usr/local/lib/python3.7/dist-packages (from pyLDAvis) (1.3.4)\n",
            "Requirement already satisfied: scipy>=0.18.0 in /usr/local/lib/python3.7/dist-packages (from pyLDAvis) (1.4.1)\n",
            "Requirement already satisfied: future in /usr/local/lib/python3.7/dist-packages (from pyLDAvis) (0.16.0)\n",
            "Requirement already satisfied: pytest in /usr/local/lib/python3.7/dist-packages (from pyLDAvis) (3.6.4)\n",
            "Requirement already satisfied: numpy>=1.9.2 in /usr/local/lib/python3.7/dist-packages (from pyLDAvis) (1.21.3)\n",
            "Requirement already satisfied: numexpr in /usr/local/lib/python3.7/dist-packages (from pyLDAvis) (2.7.3)\n",
            "Requirement already satisfied: joblib>=0.8.4 in /usr/local/lib/python3.7/dist-packages (from pyLDAvis) (1.0.1)\n",
            "Requirement already satisfied: funcy in /usr/local/lib/python3.7/dist-packages (from pyLDAvis) (1.16)\n",
            "Requirement already satisfied: jinja2>=2.7.2 in /usr/local/lib/python3.7/dist-packages (from pyLDAvis) (2.11.3)\n",
            "Requirement already satisfied: wheel>=0.23.0 in /usr/local/lib/python3.7/dist-packages (from pyLDAvis) (0.37.0)\n",
            "Requirement already satisfied: MarkupSafe>=0.23 in /usr/local/lib/python3.7/dist-packages (from jinja2>=2.7.2->pyLDAvis) (2.0.1)\n",
            "Requirement already satisfied: python-dateutil>=2.7.3 in /usr/local/lib/python3.7/dist-packages (from pandas>=0.17.0->pyLDAvis) (2.8.2)\n",
            "Requirement already satisfied: pytz>=2017.3 in /usr/local/lib/python3.7/dist-packages (from pandas>=0.17.0->pyLDAvis) (2018.9)\n",
            "Requirement already satisfied: six>=1.5 in /usr/local/lib/python3.7/dist-packages (from python-dateutil>=2.7.3->pandas>=0.17.0->pyLDAvis) (1.15.0)\n",
            "Requirement already satisfied: atomicwrites>=1.0 in /usr/local/lib/python3.7/dist-packages (from pytest->pyLDAvis) (1.4.0)\n",
            "Requirement already satisfied: attrs>=17.4.0 in /usr/local/lib/python3.7/dist-packages (from pytest->pyLDAvis) (21.2.0)\n",
            "Requirement already satisfied: setuptools in /usr/local/lib/python3.7/dist-packages (from pytest->pyLDAvis) (57.4.0)\n",
            "Requirement already satisfied: py>=1.5.0 in /usr/local/lib/python3.7/dist-packages (from pytest->pyLDAvis) (1.10.0)\n",
            "Requirement already satisfied: more-itertools>=4.0.0 in /usr/local/lib/python3.7/dist-packages (from pytest->pyLDAvis) (8.10.0)\n",
            "Requirement already satisfied: pluggy<0.8,>=0.5 in /usr/local/lib/python3.7/dist-packages (from pytest->pyLDAvis) (0.7.1)\n"
          ]
        }
      ]
    },
    {
      "cell_type": "code",
      "metadata": {
        "colab": {
          "base_uri": "https://localhost:8080/"
        },
        "id": "earvmUzrW8Br",
        "outputId": "2bee1ecd-1f05-4a1a-9939-216098cbad04"
      },
      "source": [
        "import nltk; nltk.download('stopwords')\n",
        "import re\n",
        "import numpy as np\n",
        "import pandas as pd\n",
        "from pprint import pprint\n",
        "import gensim\n",
        "import gensim.corpora as corpora\n",
        "from gensim.utils import simple_preprocess\n",
        "from gensim.models import CoherenceModel\n",
        "import spacy\n",
        "import pyLDAvis\n",
        "import pyLDAvis.gensim_models\n",
        "import matplotlib.pyplot as plt\n",
        "%matplotlib inline\n",
        "import logging\n",
        "logging.basicConfig(format='%(asctime)s : %(levelname)s : %(message)s', level=logging.ERROR)\n",
        "import warnings\n",
        "warnings.filterwarnings(\"ignore\",category=DeprecationWarning)"
      ],
      "execution_count": 58,
      "outputs": [
        {
          "output_type": "stream",
          "name": "stdout",
          "text": [
            "[nltk_data] Downloading package stopwords to /root/nltk_data...\n",
            "[nltk_data]   Package stopwords is already up-to-date!\n"
          ]
        }
      ]
    },
    {
      "cell_type": "code",
      "metadata": {
        "colab": {
          "base_uri": "https://localhost:8080/"
        },
        "id": "ZrSz9Q61W_ph",
        "outputId": "81948ec3-7468-4155-b1a5-f16faf05715a"
      },
      "source": [
        "from nltk.corpus import stopwords\n",
        "stop_words = stopwords.words('english')\n",
        "stop_words.extend(['from', 'subject', 're', 'edu', 'use'])\n",
        "#pprint(data[:1])\n",
        "def sent_to_words(sentences):\n",
        "    for sentence in sentences:\n",
        "        yield(gensim.utils.simple_preprocess(str(sentence), deacc=True))  \n",
        "data_words = list(sent_to_words(reviewTitle))\n",
        "bigram = gensim.models.Phrases(data_words, min_count=5, threshold=100)\n",
        "bigram_mod = gensim.models.phrases.Phraser(bigram)\n",
        "print(data_words[:1])\n",
        "def remove_stopwords(texts):\n",
        "    return [[word for word in simple_preprocess(str(doc)) if word not in stop_words] for doc in texts]\n",
        "def lemmatization(texts, allowed_postags=['NOUN', 'ADJ', 'VERB', 'ADV']):\n",
        "    \"\"\"https://spacy.io/api/annotation\"\"\"\n",
        "    texts_out = []\n",
        "    for sent in texts:\n",
        "        doc = nlp(\" \".join(sent)) \n",
        "        texts_out.append([token.lemma_ for token in doc if token.pos_ in allowed_postags])\n",
        "    return texts_out\n",
        "def m_bigrams(texts):\n",
        "    return [bigram_mod[doc] for doc in texts]\n",
        "data_words_nostops = remove_stopwords(data_words)\n",
        "data_words_bigrams = m_bigrams(data_words_nostops)\n",
        "nlp = spacy.load('en', disable=['parser', 'ner'])\n",
        "data_lemmatized = lemmatization(data_words_bigrams, allowed_postags=['NOUN', 'ADJ', 'VERB', 'ADV'])\n",
        "print(data_lemmatized[:1])\n",
        "id2word = corpora.Dictionary(data_lemmatized)\n",
        "texts = data_lemmatized\n",
        "corpus = [id2word.doc2bow(text) for text in texts]\n",
        "print(corpus[:1])\n",
        "lda_model = gensim.models.ldamodel.LdaModel(corpus=corpus,\n",
        "                                           id2word=id2word,\n",
        "                                           num_topics=20, \n",
        "                                           random_state=100,\n",
        "                                           update_every=1,\n",
        "                                           chunksize=100,\n",
        "                                           passes=10,\n",
        "                                           alpha='auto',\n",
        "                                           per_word_topics=True)\n",
        "pprint(lda_model.print_topics())\n",
        "doc_lda = lda_model[corpus]"
      ],
      "execution_count": 59,
      "outputs": [
        {
          "output_type": "stream",
          "name": "stdout",
          "text": [
            "[['next', 'phase']]\n",
            "[['next', 'phase']]\n",
            "[[(0, 1), (1, 1)]]\n",
            "[(0,\n",
            "  '0.528*\"ring\" + 0.009*\"pleasantly\" + 0.009*\"expect\" + 0.009*\"pocket\" + '\n",
            "  '0.009*\"love\" + 0.009*\"surprise\" + 0.009*\"epic\" + 0.009*\"know\" + '\n",
            "  '0.009*\"sheer\" + 0.009*\"also\"'),\n",
            " (1,\n",
            "  '0.120*\"superb\" + 0.120*\"stand\" + 0.120*\"alone\" + 0.120*\"yet\" + 0.120*\"year\" '\n",
            "  '+ 0.120*\"late\" + 0.006*\"expect\" + 0.006*\"pleasantly\" + 0.006*\"know\" + '\n",
            "  '0.006*\"love\"'),\n",
            " (2,\n",
            "  '0.156*\"love\" + 0.156*\"expect\" + 0.156*\"pocket\" + 0.156*\"stay\" + '\n",
            "  '0.007*\"surprise\" + 0.007*\"pleasantly\" + 0.007*\"screen\" + 0.007*\"sheer\" + '\n",
            "  '0.007*\"also\" + 0.007*\"know\"'),\n",
            " (3,\n",
            "  '0.156*\"boy\" + 0.156*\"bus\" + 0.156*\"whole\" + 0.156*\"family\" + '\n",
            "  '0.007*\"pleasantly\" + 0.007*\"language\" + 0.007*\"pocket\" + 0.007*\"love\" + '\n",
            "  '0.007*\"surprise\" + 0.007*\"epic\"'),\n",
            " (4,\n",
            "  '0.221*\"time\" + 0.221*\"precious\" + 0.011*\"know\" + 0.011*\"pocket\" + '\n",
            "  '0.011*\"love\" + 0.011*\"surprise\" + 0.011*\"pleasantly\" + 0.011*\"epic\" + '\n",
            "  '0.011*\"sheer\" + 0.011*\"language\"'),\n",
            " (5,\n",
            "  '0.018*\"know\" + 0.018*\"expect\" + 0.018*\"pocket\" + 0.018*\"love\" + '\n",
            "  '0.018*\"surprise\" + 0.018*\"pleasantly\" + 0.018*\"epic\" + 0.018*\"screen\" + '\n",
            "  '0.018*\"also\" + 0.018*\"powerhouse\"'),\n",
            " (6,\n",
            "  '0.082*\"phase\" + 0.082*\"maybe\" + 0.082*\"little\" + 0.082*\"front\" + '\n",
            "  '0.082*\"next\" + 0.082*\"bit\" + 0.082*\"story\" + 0.082*\"visually\" + '\n",
            "  '0.082*\"spectacular\" + 0.082*\"flat\"'),\n",
            " (7,\n",
            "  '0.156*\"know\" + 0.156*\"expect\" + 0.156*\"surprise\" + 0.156*\"pleasantly\" + '\n",
            "  '0.007*\"pocket\" + 0.007*\"love\" + 0.007*\"epic\" + 0.007*\"screen\" + '\n",
            "  '0.007*\"also\" + 0.007*\"powerhouse\"'),\n",
            " (8,\n",
            "  '0.221*\"also\" + 0.221*\"language\" + 0.011*\"pleasantly\" + 0.011*\"expect\" + '\n",
            "  '0.011*\"pocket\" + 0.011*\"love\" + 0.011*\"surprise\" + 0.011*\"epic\" + '\n",
            "  '0.011*\"screen\" + 0.011*\"sheer\"'),\n",
            " (9,\n",
            "  '0.156*\"martial\" + 0.156*\"ous\" + 0.156*\"art\" + 0.156*\"joy\" + '\n",
            "  '0.007*\"surprise\" + 0.007*\"pleasantly\" + 0.007*\"know\" + 0.007*\"pocket\" + '\n",
            "  '0.007*\"also\" + 0.007*\"sheer\"'),\n",
            " (10,\n",
            "  '0.018*\"know\" + 0.018*\"expect\" + 0.018*\"pocket\" + 0.018*\"love\" + '\n",
            "  '0.018*\"surprise\" + 0.018*\"pleasantly\" + 0.018*\"epic\" + 0.018*\"screen\" + '\n",
            "  '0.018*\"also\" + 0.018*\"powerhouse\"'),\n",
            " (11,\n",
            "  '0.018*\"know\" + 0.018*\"expect\" + 0.018*\"pocket\" + 0.018*\"love\" + '\n",
            "  '0.018*\"surprise\" + 0.018*\"pleasantly\" + 0.018*\"epic\" + 0.018*\"screen\" + '\n",
            "  '0.018*\"also\" + 0.018*\"powerhouse\"'),\n",
            " (12,\n",
            "  '0.221*\"fine\" + 0.221*\"perfectly\" + 0.011*\"expect\" + 0.011*\"love\" + '\n",
            "  '0.011*\"surprise\" + 0.011*\"pleasantly\" + 0.011*\"know\" + 0.011*\"stay\" + '\n",
            "  '0.011*\"screen\" + 0.011*\"also\"'),\n",
            " (13,\n",
            "  '0.018*\"know\" + 0.018*\"expect\" + 0.018*\"pocket\" + 0.018*\"love\" + '\n",
            "  '0.018*\"surprise\" + 0.018*\"pleasantly\" + 0.018*\"epic\" + 0.018*\"screen\" + '\n",
            "  '0.018*\"also\" + 0.018*\"powerhouse\"'),\n",
            " (14,\n",
            "  '0.120*\"epic\" + 0.120*\"strong\" + 0.120*\"stunning\" + 0.120*\"story\" + '\n",
            "  '0.120*\"enjoyable\" + 0.120*\"powerhouse\" + 0.006*\"surprise\" + 0.006*\"love\" + '\n",
            "  '0.006*\"pocket\" + 0.006*\"sheer\"'),\n",
            " (15,\n",
            "  '0.018*\"know\" + 0.018*\"expect\" + 0.018*\"pocket\" + 0.018*\"love\" + '\n",
            "  '0.018*\"surprise\" + 0.018*\"pleasantly\" + 0.018*\"epic\" + 0.018*\"screen\" + '\n",
            "  '0.018*\"also\" + 0.018*\"powerhouse\"'),\n",
            " (16,\n",
            "  '0.026*\"ring\" + 0.018*\"pleasantly\" + 0.018*\"expect\" + 0.018*\"pocket\" + '\n",
            "  '0.018*\"love\" + 0.018*\"surprise\" + 0.018*\"epic\" + 0.018*\"know\" + '\n",
            "  '0.018*\"sheer\" + 0.018*\"also\"'),\n",
            " (17,\n",
            "  '0.135*\"awesomeness\" + 0.135*\"handle\" + 0.135*\"screen\" + 0.135*\"sheer\" + '\n",
            "  '0.135*\"eye\" + 0.006*\"expect\" + 0.006*\"also\" + 0.006*\"pleasantly\" + '\n",
            "  '0.006*\"know\" + 0.006*\"love\"'),\n",
            " (18,\n",
            "  '0.018*\"know\" + 0.018*\"expect\" + 0.018*\"pocket\" + 0.018*\"love\" + '\n",
            "  '0.018*\"surprise\" + 0.018*\"pleasantly\" + 0.018*\"epic\" + 0.018*\"screen\" + '\n",
            "  '0.018*\"also\" + 0.018*\"powerhouse\"'),\n",
            " (19,\n",
            "  '0.108*\"great\" + 0.108*\"engage\" + 0.108*\"indeed\" + 0.108*\"legendary\" + '\n",
            "  '0.108*\"visual\" + 0.108*\"effect\" + 0.108*\"plot\" + 0.005*\"stay\" + '\n",
            "  '0.005*\"pocket\" + 0.005*\"powerhouse\"')]\n"
          ]
        }
      ]
    },
    {
      "cell_type": "markdown",
      "metadata": {
        "id": "ZRvt-kEJLdAl"
      },
      "source": [
        "## (2) (15 points) Generate K topics by using LSA, the number of topics K should be decided by the coherence score, then summarize what are the topics. You may refer the code here:\n",
        "\n",
        "https://www.datacamp.com/community/tutorials/discovering-hidden-topics-python"
      ]
    },
    {
      "cell_type": "code",
      "metadata": {
        "id": "zYUOZ_NjLdAm"
      },
      "source": [
        "# Write your code here\n",
        "import os.path\n",
        "from gensim import corpora\n",
        "from gensim.models import LsiModel\n",
        "from nltk.tokenize import RegexpTokenizer\n",
        "from nltk.corpus import stopwords\n",
        "from nltk.stem.porter import PorterStemmer\n",
        "from gensim.models.coherencemodel import CoherenceModel\n",
        "import matplotlib.pyplot as plt\n",
        "\n",
        "\n"
      ],
      "execution_count": 16,
      "outputs": []
    },
    {
      "cell_type": "code",
      "metadata": {
        "id": "IurWyOGwQ6oO"
      },
      "source": [
        "def preprocess_data(docu_set):\n",
        "    tokenizer = RegexpTokenizer(r'\\w+')\n",
        "    en_stop = set(stopwords.words('english'))\n",
        "    p_stemmer = PorterStemmer()\n",
        "    texts = []\n",
        "    for i in docu_set:\n",
        "        raw = i.lower()\n",
        "        tokens = tokenizer.tokenize(raw)\n",
        "        stopped_tokens = [i for i in tokens if not i in en_stop]\n",
        "        stemmed_tokens = [p_stemmer.stem(i) for i in stopped_tokens]\n",
        "        texts.append(stemmed_tokens)\n",
        "    return texts\n",
        "def prepare_corpus(doc_clean):\n",
        "    \"\"\"\n",
        "    Input  : clean document\n",
        "    Purpose: create term dictionary of our courpus and Converting list of documents (corpus) into Document Term Matrix\n",
        "    Output : term dictionary and Document Term Matrix\n",
        "    \"\"\"\n",
        "    dictionary = corpora.Dictionary(doc_clean)\n",
        "    doc_term_matrix = [dictionary.doc2bow(doc) for doc in doc_clean]\n",
        "    return dictionary,doc_term_matrix\n",
        "def create_gensim_lsa_model(doc_clean,number_of_topics,words):\n",
        "    \"\"\"\n",
        "    Input  : clean document, number of topics and number of words associated with each topic\n",
        "    Purpose: create LSA model using gensim\n",
        "    Output : return LSA model\n",
        "    \"\"\"\n",
        "    dictionary,doc_term_matrix=prepare_corpus(doc_clean)\n",
        "    lsamodel = LsiModel(doc_term_matrix, num_topics=number_of_topics, id2word = dictionary)  # train model\n",
        "    print(lsamodel.print_topics(num_topics=number_of_topics, num_words=words))\n",
        "    return lsamodel\n",
        "def compute_coherence_values(dictionary, doc_term_matrix, doc_clean, stop, start=2, step=3):\n",
        "    \"\"\"\n",
        "    Input   : dictionary : Gensim dictionary\n",
        "              corpus : Gensim corpus\n",
        "              texts : List of input texts\n",
        "              stop : Max num of topics\n",
        "    purpose : Compute c_v coherence for various number of topics\n",
        "    Output  : model_list : List of LSA topic models\n",
        "              coherence_values : Coherence values corresponding to the LDA model with respective number of topics\n",
        "    \"\"\"\n",
        "    coherence_values = []\n",
        "    model_list = []\n",
        "    for num_topics in range(start, stop, step):\n",
        "      model = LsiModel(doc_term_matrix, num_topics, id2word = dictionary)  # train model\n",
        "      model_list.append(model)\n",
        "      coherencemodel = CoherenceModel(model=model, texts=doc_clean, dictionary=dictionary, coherence='c_v')\n",
        "      coherence_values.append(coherencemodel.get_coherence())\n",
        "    return model_list, coherence_values\n",
        "def graph(doc_clean,start, stop, step):\n",
        "    dictionary,doc_term_matrix=prepare_corpus(doc_clean)\n",
        "    model_list, coherence_values = compute_coherence_values(dictionary, doc_term_matrix,doc_clean,stop, start, step)\n",
        "    x = range(start, stop, step)\n",
        "    plt.plot(x, coherence_values)\n",
        "    plt.xlabel(\"Number of Topics\")\n",
        "    plt.ylabel(\"Coherence score\")\n",
        "    plt.legend((\"coherence_values\"), loc='best')\n",
        "    plt.show()"
      ],
      "execution_count": 20,
      "outputs": []
    },
    {
      "cell_type": "code",
      "metadata": {
        "colab": {
          "base_uri": "https://localhost:8080/",
          "height": 282
        },
        "id": "KkEvJpS5Q8VZ",
        "outputId": "6353b12c-d620-445d-efcb-b4849df25cb4"
      },
      "source": [
        "start,stop,step=2,12,1\n",
        "clean_text=preprocess_data(reviewTitle)\n",
        "graph(clean_text,start,stop,step)"
      ],
      "execution_count": 21,
      "outputs": [
        {
          "output_type": "display_data",
          "data": {
            "image/png": "[encoded data removed]",
            "text/plain": [
              "<Figure size 432x288 with 1 Axes>"
            ]
          },
          "metadata": {
            "needs_background": "light"
          }
        }
      ]
    },
    {
      "cell_type": "markdown",
      "metadata": {
        "id": "bRiRp9duLdAm"
      },
      "source": [
        "## (3) (10 points) Compare the results generated by the two topic modeling algorithms, which one is better? You should explain the reasons in details."
      ]
    },
    {
      "cell_type": "code",
      "metadata": {
        "id": "EZ8clYb7LdAm"
      },
      "source": [
        "# Write your answer here (no code needed for this question)\n",
        "\n",
        "Although the terms in both models are same, LSA has less measurements than LDA. LSA is a faster alternative of LDA. Both LSA (Latent SEmantic Analysis) and LDA (Latent Dynamic Analysis) have dealt with Natural Language Programming (Latent Dirichlet Allocation).\n",
        "There is a bag of words in matrix format that serves as input for both LSA and LDA. LDA is concerned with topic modeling issues, whereas LSA is concerned with minimizing matrix dimension. If two words have the same meaning in LSA, they will appear in the same type of text. LDA is an unsupervised learning method that uses a topic model as an example, with each subject combining numerous models and each model combining various terms.\n",
        "Between the terms in documents, the categories in this have the same likelihood. Both LDA and LSA employ a matrix with a bag of words as an input. The ideal problem for SVD is determining the number of dimensions. The high dimension uses more resources, while the low dimension uses less, yet the two may not be distinguishable. Topic model algorithms are statistical approaches for analyzing texts in order to discover and understand the topics that run through them, as well as how those themes are related to one another.\n",
        "\n"
      ],
      "execution_count": null,
      "outputs": []
    }
  ]
}