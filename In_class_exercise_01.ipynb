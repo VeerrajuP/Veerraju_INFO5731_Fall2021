{
  "nbformat": 4,
  "nbformat_minor": 0,
  "metadata": {
    "colab": {
      "name": "In_class_exercise_01.ipynb",
      "provenance": [],
      "collapsed_sections": [],
      "include_colab_link": true
    },
    "kernelspec": {
      "display_name": "Python 3",
      "language": "python",
      "name": "python3"
    },
    "language_info": {
      "codemirror_mode": {
        "name": "ipython",
        "version": 3
      },
      "file_extension": ".py",
      "mimetype": "text/x-python",
      "name": "python",
      "nbconvert_exporter": "python",
      "pygments_lexer": "ipython3",
      "version": "3.8.5"
    }
  },
  "cells": [
    {
      "cell_type": "markdown",
      "metadata": {
        "id": "view-in-github",
        "colab_type": "text"
      },
      "source": [
        "<a href=\"https://colab.research.google.com/github/VeerrajuP/Veerraju_INFO5731_Fall2021/blob/master/In_class_exercise_01.ipynb\" target=\"_parent\"><img src=\"https://colab.research.google.com/assets/colab-badge.svg\" alt=\"Open In Colab\"/></a>"
      ]
    },
    {
      "cell_type": "markdown",
      "metadata": {
        "id": "DymRJbxDBCnf"
      },
      "source": [
        "# **The first In-class-exercise (09/01/2021, 40 points in total)**"
      ]
    },
    {
      "cell_type": "markdown",
      "metadata": {
        "id": "03jb4GZsBkBS"
      },
      "source": [
        "(1) Write a Python program to calculate the length of a string. (4 points)"
      ]
    },
    {
      "cell_type": "code",
      "metadata": {
        "colab": {
          "base_uri": "https://localhost:8080/"
        },
        "id": "YaGLbSHHB8Ej",
        "outputId": "41783cb1-7094-4ed0-9748-71a400cc48d2"
      },
      "source": [
        "# program to calculate the length of a string\n",
        "str = \"Computational methods of Information systems\"\n",
        "\n",
        "len(str)\n",
        "print(len(str))"
      ],
      "execution_count": 173,
      "outputs": [
        {
          "output_type": "stream",
          "name": "stdout",
          "text": [
            "44\n"
          ]
        }
      ]
    },
    {
      "cell_type": "markdown",
      "metadata": {
        "id": "jJDe71iLB616"
      },
      "source": [
        "(2) Write a Python program to count the number of characters in a string. (4 points)\n",
        "\n",
        "Sample String : 'google.com‘, \n",
        "\n",
        "Expected Result : {'o': 3, 'g': 2, '.': 1, 'e': 1, 'l': 1, 'm': 1, 'c': 1}"
      ]
    },
    {
      "cell_type": "code",
      "metadata": {
        "id": "MtKskTzbCLaU"
      },
      "source": [
        "# program to count the number of characters in a string\n",
        "def char_fre(str):\n",
        "   #fre = frequency\n",
        "  \n",
        "  dic = {} \n",
        "  #dict\n",
        "  \n",
        "  for n in str:\n",
        "    keys = dic.keys() \n",
        "    if n in keys:\n",
        "      dic[n] += 1 \n",
        "    else:\n",
        "      dic[n] = 1 \n",
        "    return dic  \n",
        "    print(char_fre('google.com')) \n",
        "      \n",
        "    "
      ],
      "execution_count": 174,
      "outputs": []
    },
    {
      "cell_type": "markdown",
      "metadata": {
        "id": "55W9AMdXCSpV"
      },
      "source": [
        "(3) Write a Python program to sum all the items in a list. (4 points)"
      ]
    },
    {
      "cell_type": "code",
      "metadata": {
        "id": "I57NXsauCec2",
        "colab": {
          "base_uri": "https://localhost:8080/"
        },
        "outputId": "7131ec93-a80d-41c1-c36c-3dbc9f92f151"
      },
      "source": [
        "# Program to sum all the items in a list.\n",
        "\n",
        "z=[9,2,2021]\n",
        "p=0\n",
        "for i in z:\n",
        "  p+=i\n",
        "  print(\"sum is \",p)\n",
        "\n",
        "\n"
      ],
      "execution_count": 175,
      "outputs": [
        {
          "output_type": "stream",
          "name": "stdout",
          "text": [
            "sum is  9\n",
            "sum is  11\n",
            "sum is  2032\n"
          ]
        }
      ]
    },
    {
      "cell_type": "markdown",
      "metadata": {
        "id": "4ulBZ6yhCi9F"
      },
      "source": [
        "(4) Write a Python program to get a string from a given string where all occurrences of its first char have been changed to '\\$', except the first char itself. (4 points)\n",
        "\n",
        "Sample String : 'restart‘, \n",
        "\n",
        "Expected Result : 'resta\\$t'"
      ]
    },
    {
      "cell_type": "code",
      "metadata": {
        "id": "Fj0XhwbBCw2o",
        "colab": {
          "base_uri": "https://localhost:8080/"
        },
        "outputId": "75a3f758-83ca-483a-9218-1a7524d5654f"
      },
      "source": [
        "# Program to get a string from a given string where all occurences of its first char have been changed to '$', except the first char itself\n",
        "\n",
        "a=(input(\"enter a string :\"))\n",
        "z=a\n",
        "z=z.replace(a[0],\"$\")\n",
        "print(a[0]+z[1:])\n"
      ],
      "execution_count": 176,
      "outputs": [
        {
          "output_type": "stream",
          "name": "stdout",
          "text": [
            "enter a string :restart\n",
            "resta$t\n"
          ]
        }
      ]
    },
    {
      "cell_type": "markdown",
      "metadata": {
        "id": "_bIP7s1MCzue"
      },
      "source": [
        "(5) Write a program with python which could accept two parameter a and b to calculate and output the result of S, where \n",
        "\n",
        "$\\ S=3.14*(1+a/b)^3$ (4 points)\n",
        "\n"
      ]
    },
    {
      "cell_type": "code",
      "metadata": {
        "id": "w79QilHXD3Mg",
        "colab": {
          "base_uri": "https://localhost:8080/"
        },
        "outputId": "a40f13bb-b46c-48bb-c7ee-fca0b4b55571"
      },
      "source": [
        "# program which could accept two parameter a and b to calculate and output the result of S\n",
        "# Where S=3.14*(1+a/b)^3\n",
        "a=float(input(\"Enter the parameter a\"))\n",
        "b=float(input(\"Enter the parameter b\"))\n",
        "s=3.14*((1+pow(a/b,3)))\n",
        "print(\"The value of S is \",s)"
      ],
      "execution_count": 161,
      "outputs": [
        {
          "output_type": "stream",
          "name": "stdout",
          "text": [
            "Enter the parameter a11\n",
            "Enter the parameter b125\n",
            "The value of S is  3.14213982208\n"
          ]
        }
      ]
    },
    {
      "cell_type": "markdown",
      "metadata": {
        "id": "xCa2bK9aD4Q3"
      },
      "source": [
        "(6) Write a Python program to concatenate following dictionaries to create a new one. (4 points)\n",
        "\n",
        "Sample Dictionary : dic1={1:10, 2:20}, dic2={3:30, 4:40}, dic3={5:50,6:60}, \n",
        "\n",
        "Expected Result : {1: 10, 2: 20, 3: 30, 4: 40, 5: 50, 6: 60}\n"
      ]
    },
    {
      "cell_type": "code",
      "metadata": {
        "id": "_z4aLqAbEET1",
        "colab": {
          "base_uri": "https://localhost:8080/"
        },
        "outputId": "849f6d88-7206-45c6-d7be-9dd8c20c267c"
      },
      "source": [
        "# Program to concatenate the dictionaries to create a new one\n",
        "dic1={1:10,2:20}\n",
        "dic2={3:30,4:40}\n",
        "dic3={5:50,6:60}\n",
        "dic4={}\n",
        "dic4.update(dic1)\n",
        "dic4.update(dic2)\n",
        "dic4.update(dic3)\n",
        "print(dic4)"
      ],
      "execution_count": 162,
      "outputs": [
        {
          "output_type": "stream",
          "name": "stdout",
          "text": [
            "{1: 10, 2: 20, 3: 30, 4: 40, 5: 50, 6: 60}\n"
          ]
        }
      ]
    },
    {
      "cell_type": "markdown",
      "metadata": {
        "id": "0v48Vqa7FrQh"
      },
      "source": [
        "(7) Write a Python program to check whether an element exists within a tuple. (4 points)"
      ]
    },
    {
      "cell_type": "code",
      "metadata": {
        "id": "7WEmgq-DF2P1",
        "colab": {
          "base_uri": "https://localhost:8080/"
        },
        "outputId": "7c7ad629-0689-401b-cd67-890a6462f431"
      },
      "source": [
        "# Program to check whether an element existe within a tuple\n",
        "\n",
        "a = (1,2,3,4,5)\n",
        "n = float(input(\"Enter element to be searched \"))\n",
        "for i in a:\n",
        "  if (i==n):\n",
        "    print(\"Exists\")\n",
        "    break\n",
        "else:\n",
        "      print(\"Not exist\")"
      ],
      "execution_count": 181,
      "outputs": [
        {
          "output_type": "stream",
          "name": "stdout",
          "text": [
            "Enter element to be searched 3\n",
            "Exists\n"
          ]
        }
      ]
    },
    {
      "cell_type": "markdown",
      "metadata": {
        "id": "vD5PYLMuGga_"
      },
      "source": [
        "(8) Write a Python program to find maximum and the minimum value in a set. (4 points)"
      ]
    },
    {
      "cell_type": "code",
      "metadata": {
        "id": "t0D5kdJUGjjw",
        "colab": {
          "base_uri": "https://localhost:8080/"
        },
        "outputId": "6c553830-3faa-4d84-b467-87c3327e286b"
      },
      "source": [
        "# Program to find maximum and the minimum value in a set\n",
        "a=(9,2,2021)\n",
        "print(\"max value in set is \",(max(a)))\n",
        "print(\"min value in set is \",(min(a)))"
      ],
      "execution_count": 180,
      "outputs": [
        {
          "output_type": "stream",
          "name": "stdout",
          "text": [
            "max value in set is  2021\n",
            "min value in set is  2\n"
          ]
        }
      ]
    },
    {
      "cell_type": "markdown",
      "metadata": {
        "id": "uHkd-y5VhVWC"
      },
      "source": [
        "(9) Write a Python program to randomly divide the students in this class into six groups for term projects, each group should have at least 4 students but no more than 6 students (including 6). Here is the students list: (4 points)\n",
        "\n",
        "studnet_list = ['vmb0067','pc0353','snd0097','yye0005','sg0940','bk0301','rak0120','rrk0058','spk0057','vl0135','nm0547','pn0159',\n",
        "           'msp0174','dd0420','ds0761','rs0850','ss1995','at0739','at0768','mv0299','tv0119','dy0091','py0080','ttp0037','hc0439','ri0094','pk0339', 'hn0145','mn0426']"
      ]
    },
    {
      "cell_type": "code",
      "metadata": {
        "id": "3iGbmcOBhTwy",
        "colab": {
          "base_uri": "https://localhost:8080/"
        },
        "outputId": "30f92b78-0672-4bb5-a739-0c0614418c93"
      },
      "source": [
        "# Program to randomly divide the students in this class into six groups for term project \n",
        "import random\n",
        "student_list = ['vmb0067','pc0353','snd0097','yye0005','sg0940','bk0301','rak0120','rrk0058','spk0057','vl0135','nm0547','pn0159','msp0174','dd0420','ds0761','rs0850','ss1995','at0739','at0768','mv0299','tv0119','dy0091','py0080','ttp0037','hc0439','ri0094','pk0339','hn0145','mn0426']\n",
        "random.shuffle(student_list)\n",
        "for i in range(6):\n",
        "  print(\" The \",(i+1) ,\" group consists of \",end=\" \")\n",
        "  print(student_list[(i*5):(i+1)*5])"
      ],
      "execution_count": 179,
      "outputs": [
        {
          "output_type": "stream",
          "name": "stdout",
          "text": [
            " The  1  group consists of  ['sg0940', 'ri0094', 'dd0420', 'hc0439', 'ss1995']\n",
            " The  2  group consists of  ['vmb0067', 'rrk0058', 'dy0091', 'rak0120', 'pk0339']\n",
            " The  3  group consists of  ['spk0057', 'pc0353', 'at0739', 'mn0426', 'tv0119']\n",
            " The  4  group consists of  ['pn0159', 'bk0301', 'mv0299', 'nm0547', 'py0080']\n",
            " The  5  group consists of  ['ttp0037', 'rs0850', 'hn0145', 'yye0005', 'snd0097']\n",
            " The  6  group consists of  ['at0768', 'vl0135', 'msp0174', 'ds0761']\n"
          ]
        }
      ]
    },
    {
      "cell_type": "markdown",
      "metadata": {
        "id": "qxSVqBnZWrKE"
      },
      "source": [
        "(10) Write a Python program to find the duplicate elements in a given array of integers. Return -1 If there are no such elements. (4 points)"
      ]
    },
    {
      "cell_type": "code",
      "metadata": {
        "id": "5L9Bv4t1WrKE",
        "colab": {
          "base_uri": "https://localhost:8080/"
        },
        "outputId": "210a28f9-c74d-44c4-a677-b2ddcb4eec86"
      },
      "source": [
        "# Program to find the duplicate elements in a given arrat of integers.\n",
        "array =[1,2,3,1,2,5,6,7]\n",
        "duplicate=[]\n",
        "for i in array:\n",
        "  if array.count(i)>1 and (i not in duplicate):\n",
        "    duplicate.append(i)\n",
        "if len(duplicate)==0:\n",
        "  print(-1)\n",
        "else:\n",
        "  print(duplicate)\n"
      ],
      "execution_count": 178,
      "outputs": [
        {
          "output_type": "stream",
          "name": "stdout",
          "text": [
            "[1, 2]\n"
          ]
        }
      ]
    },
    {
      "cell_type": "markdown",
      "metadata": {
        "id": "keTHGSBiWrKE"
      },
      "source": [
        "(11) Write a Python program to select all the Sundays of a specified year. (4 extra points)"
      ]
    },
    {
      "cell_type": "code",
      "metadata": {
        "id": "TCMeb0O0WrKE"
      },
      "source": [
        "# program to select all the sundays of a specified year\n",
        "import pandas as pd\n",
        "\n",
        "def allSundays(year):\n",
        "\n",
        "  return pd.date_range(start=str(year), end=str(year+1), freq='W-SUN')    #SUN = Sundays   \n",
        "  print(allSundys(2020)[:52])"
      ],
      "execution_count": 177,
      "outputs": []
    }
  ]
}