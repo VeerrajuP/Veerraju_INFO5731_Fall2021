{
  "cells": [
    {
      "cell_type": "markdown",
      "metadata": {
        "id": "view-in-github",
        "colab_type": "text"
      },
      "source": [
        "<a href=\"https://colab.research.google.com/github/VeerrajuP/Veerraju_INFO5731_Fall2021/blob/master/INFO5731_Assignment_One%20resubmission.ipynb\" target=\"_parent\"><img src=\"https://colab.research.google.com/assets/colab-badge.svg\" alt=\"Open In Colab\"/></a>"
      ]
    },
    {
      "cell_type": "markdown",
      "metadata": {
        "id": "Ryk8D1Q4Wsrp"
      },
      "source": [
        "# **INFO5731 Assignment One**"
      ]
    },
    {
      "cell_type": "markdown",
      "metadata": {
        "id": "90_NR8c5XGWc"
      },
      "source": [
        "# Question 1\n",
        "\n",
        "(20 points). Write a Python program to generate 12 random numbers between 1 and 100. Sort the list of numbers in ascending order and print it out. Sort the list of numbers in descending order and print it out. Calculate the average for the group and print it out."
      ]
    },
    {
      "cell_type": "code",
      "execution_count": 1,
      "metadata": {
        "colab": {
          "base_uri": "https://localhost:8080/"
        },
        "id": "5QX6bJjGWXY9",
        "outputId": "f98a324d-ee91-4daa-8267-7ced81d6f3af"
      },
      "outputs": [
        {
          "output_type": "stream",
          "name": "stdout",
          "text": [
            "The random numbers are  [92, 43, 54, 18, 4, 22, 39, 80, 99, 5, 26, 14]\n",
            "The list in ascending order  [4, 5, 14, 18, 22, 26, 39, 43, 54, 80, 92, 99]\n",
            "The list in descending order  [99, 92, 80, 54, 43, 39, 26, 22, 18, 14, 5, 4]\n",
            "The average is  41.333333333333336\n"
          ]
        }
      ],
      "source": [
        "# Your code here\n",
        "\n",
        "import random\n",
        "randomlist = random.sample(range(1, 100),12)\n",
        "print(\"The random numbers are \",randomlist)\n",
        "randomlist.sort()\n",
        "print(\"The list in ascending order \",randomlist)\n",
        "randomlist.sort(reverse=True)\n",
        "print(\"The list in descending order \",randomlist)\n",
        "average= (sum(randomlist))/len(randomlist)\n",
        "print(\"The average is \",str(average))"
      ]
    },
    {
      "cell_type": "markdown",
      "metadata": {
        "id": "1F_PZdH9Sh49"
      },
      "source": [
        "# Question 2\n",
        "(25 points). Write a program that will do the following string formatting tasks:\n",
        "\n",
        "(1) Ask the user to enter two sentences.\n",
        "\n",
        "(2) Make each sentence into a list. Each element in the list should correspond to a word in the sentence. For example, if the sentence is \"Alas! Am I alive? This is my first python program\", the program should print out ['Alas, '!', 'Am', 'I', 'alive, '?', 'This', 'is', 'my', 'first', 'python', 'program'].\n",
        "\n",
        "(3) Compare the two sentences. Print out a list of words that occur in both sentences.\n",
        "\n",
        "(4) Remove any punctuation from the sentence and print it back out. It should remove at least the following characters, but it can remove more: period(“.”), comma (“,”), semicolon (“;”), and colon (“:”)\n",
        "\n",
        "(5) Count the number of vowels in the sentences. Print out each vowel and the number of times it appears in the sentences, such as: a:2, e:1, i:0, etc"
      ]
    },
    {
      "cell_type": "code",
      "execution_count": 2,
      "metadata": {
        "colab": {
          "base_uri": "https://localhost:8080/"
        },
        "id": "Y0oOSlsOS0cq",
        "outputId": "93ce56bb-c912-4b50-c08c-744078097d55"
      },
      "outputs": [
        {
          "output_type": "stream",
          "name": "stdout",
          "text": [
            "Enter the 1st sentence: \"Alas! Am I alive? This is my first python program\"\n",
            "\"Alas! Am I alive? This is my first python program\"\n",
            "Enter the 2nd sentence: Alas! Am I alive\"\n",
            "Alas! Am I alive\"\n",
            "splitting 1st sentence into the wordslist: ['\"Alas!', 'Am', 'I', 'alive?', 'This', 'is', 'my', 'first', 'python', 'program\"']\n",
            "splitting 2nd sentence into the wordslist: ['Alas!', 'Am', 'I', 'alive\"']\n",
            "wordslist in both the sentences: {'I', 'Am'}\n",
            "1st sentence without punct:Alas Am I alive This is my first python program\n",
            "2nd sentence without punct: Alas Am I alive\n",
            "counting the vow in the 1st sentence:13\n",
            "printing each vowels in the 1st sentence: {'A': 0, 'a': 5, 'E': 0, 'e': 1, 'I': 0, 'i': 5, 'O': 0, 'o': 2, 'U': 0, 'u': 0}\n",
            "counting the vow in the 1st sentence:7\n",
            "printing each vowels in the 2nd sentence: {'A': 0, 'a': 4, 'E': 0, 'e': 1, 'I': 0, 'i': 2, 'O': 0, 'o': 0, 'U': 0, 'u': 0}\n"
          ]
        }
      ],
      "source": [
        "# Your code here\n",
        "#Question(1)\n",
        "\n",
        "sentence1 = input(\"Enter the 1st sentence: \")\n",
        "print(sentence1)\n",
        "\n",
        "sentence2 = input(\"Enter the 2nd sentence: \")\n",
        "print(sentence2)\n",
        "\n",
        "#question(2)\n",
        "\n",
        "wl_1 = sentence1.split()\n",
        "print(\"splitting 1st sentence into the wordslist: \" + str(wl_1))\n",
        "\n",
        "wl_2 = sentence2.split()\n",
        "print(\"splitting 2nd sentence into the wordslist: \" + str(wl_2))\n",
        "\n",
        "#quesiton(3)\n",
        "\n",
        "wordslist_in_both_the_sentences = set(wl_1)&set(wl_2)\n",
        "print(\"wordslist in both the sentences: \" + str(wordslist_in_both_the_sentences))\n",
        "\n",
        "#question(4)\n",
        "\n",
        "punct = '''!()-[]{};:'\"\\,<>./?@#$%^&*_~'''\n",
        "no_punct_for_sentence1 = \"\"\n",
        "for char in sentence1:\n",
        "    if char not in punct:\n",
        "        no_punct_for_sentence1 = no_punct_for_sentence1 + char\n",
        "print(\"1st sentence without punct:\" + str(no_punct_for_sentence1))\n",
        "\n",
        "no_punct_for_sentence2 = \"\"\n",
        "for char in sentence2:\n",
        "    if char not in punct:\n",
        "        no_punct_for_sentence2 = no_punct_for_sentence2 + char\n",
        "print(\"2nd sentence without punct: \" + str(no_punct_for_sentence2))\n",
        "\n",
        "#question(5)\n",
        "\n",
        "def check_Vowels(sentence1,vow1):\n",
        "    final1 = [each for each in sentence1 if each in vow1]\n",
        "    print(\"counting the vow in the 1st sentence:\" + str(len(final1)))\n",
        "    sentence1 = sentence1.casefold()\n",
        "    count1 = {}.fromkeys(vow1, 0)\n",
        "    for char in sentence1:\n",
        "        if char in count1:\n",
        "            count1[char] += 1\n",
        "    return count1\n",
        "vow1 = \"AaEeIiOoUu\"\n",
        "print(\"printing each vowels in the 1st sentence: \" + str(check_Vowels(sentence1, vow1)))\n",
        "\n",
        "def Check_Vowels(sentence2,vow2):\n",
        "    final2 = [each for each in sentence2 if each in vow2]\n",
        "    print(\"counting the vow in the 2nd sentence: \" + str(len(final2)))\n",
        "    sentence2 = sentence2.casefold()\n",
        "    count2 = {}.fromkeys(vow2, 0)\n",
        "    for char in sentence2:\n",
        "        if char in count2:\n",
        "            count2[char] +=1\n",
        "    return count2\n",
        "vow2 = \"AaEeIiOoUu\"\n",
        "print(\"printing each vowels in the 2nd sentence: \" + str(check_Vowels(sentence2, vow2)))\n"
      ]
    },
    {
      "cell_type": "markdown",
      "metadata": {
        "id": "CmFoI4jDS9nx"
      },
      "source": [
        "# Question 3 \n",
        "\n",
        "(15 points). The formula that describes the volume V of a sphere with radius r is the following:\n",
        "\n",
        "$ V=\\frac{4}{3}\\ast\\ \\pi\\ast\\ r^3 $\n",
        "\n",
        "Write a program to calculate the value of V when r is in the range of 1–10. Output the result in the following format:\n",
        "\n",
        "\tr\tV\n",
        "\t1\t…\n",
        "\t2\t…\n",
        "\t3\t…\n"
      ]
    },
    {
      "cell_type": "code",
      "execution_count": 3,
      "metadata": {
        "colab": {
          "base_uri": "https://localhost:8080/"
        },
        "id": "pEyqeioAT95b",
        "outputId": "e2e13e29-f961-4c2a-88dc-0ed24ce52c36"
      },
      "outputs": [
        {
          "output_type": "stream",
          "name": "stdout",
          "text": [
            "r V\n",
            "1 4.1866666666666665\n",
            "2 33.49333333333333\n",
            "3 113.03999999999999\n",
            "4 267.94666666666666\n",
            "5 523.3333333333334\n",
            "6 904.3199999999999\n",
            "7 1436.0266666666666\n",
            "8 2143.5733333333333\n",
            "9 3052.08\n",
            "10 4186.666666666667\n"
          ]
        }
      ],
      "source": [
        "# Your code here\n",
        "# Program to calculate the value of V when r is in the range of 1 to 10.\n",
        "print(\"r V\")\n",
        "for r in range(1,11):\n",
        "    print(r,end=\" \")\n",
        "    volume =(4/3)*(3.14)*(pow(r,3))\n",
        "    print(volume)\n"
      ]
    },
    {
      "cell_type": "markdown",
      "metadata": {
        "id": "z3tBE7E-Xn5X"
      },
      "source": [
        "# Question 4\n",
        "\n",
        "(40 points). In the field of Data Science, data is often formatted as a comma-delimited (CSV) file, where each line in a file corresponds to a field's value. Refer to Chapter 9 (p. 106) for more information on comma-delimited files. To answer this question, you will need to download the file [Assignment1_denton_housing.csv](https://github.com/unt-iialab/info5731-fall2021/blob/main/assignments/Assignment1_denton_housing.csv) included with this assignment. The file [Assignment1_denton_housing.csv](https://github.com/unt-iialab/info5731-fall2021/blob/main/assignments/Assignment1_denton_housing.csv) contains statistics about housing in the city of Denton from 2008 to 2014. Write a program to implement the following questions.\n",
        "\n",
        "(1) (10 pts) Calculate the difference in the number of Occupied Housing Units from year to year and print it. The difference must be calculated for the consecutive years such as 2008-2009, 2009-2010 etc. Finally, print the values in the ascending order.\n",
        "\n",
        "(2) (10 pts) For all the years, calculate the percentage of housing units which are vacant an occupied. Print the results in the following format:\n",
        "\n",
        "Year Vacant Housing Units Occupied Housing Units\n",
        "\n",
        "    2008  30%   70%                          \n",
        "\t2009 ----- -----\n",
        "\t2010 ----- -----\n",
        "    2011 ----- -----\n",
        "\t2012 ----- -----\n",
        "    2013 ----- -----\n",
        "\t2014 ----- -----\n",
        "  \n",
        "  \n",
        "\n",
        "(3) (10 pts) Calculate and print the valued and years in which the highest number of housing units were vacant and occupied. Print the results in the following format:  \n",
        "\n",
        "                              Year\tValue\n",
        "\tVacant Housing Units\t  -----   -----\n",
        "\tOccupied Housing Units\t-----   -----\n",
        "\n",
        "(4) (10 pts) Calculate the harmonic mean of the total housing units and print it out. You can find the information about harmonic mean here: https://ncalculators.com/statistics/harmonic-mean-calculator.htm"
      ]
    },
    {
      "cell_type": "code",
      "source": [
        "import pandas as p\n",
        "file_url = \"https://raw.githubusercontent.com/unt-iialab/info5731-fall2021/main/assignments/Assignment1_denton_housing.csv\"\n",
        "read_csv_file = p.read_csv(file_url)\n",
        "read_csv_file = read_csv_file[read_csv_file['title_field']=='Occupied Housing Units']\n",
        "sort_the_years_in_file = read_csv_file.sort_values('year')\n",
        "years_after_sort = sort_the_years_in_file['value'].diff().sort_values()\n",
        "print('Difference in no of Occ Housing Units from year to year:')\n",
        "print(years_after_sort.to_string(index=False))\n",
        "print(\" \")"
      ],
      "metadata": {
        "colab": {
          "base_uri": "https://localhost:8080/"
        },
        "id": "19SrTn-SoazC",
        "outputId": "94659feb-a8b2-468b-cad3-9055534af036"
      },
      "execution_count": 33,
      "outputs": [
        {
          "output_type": "stream",
          "name": "stdout",
          "text": [
            "Difference in no of Occ Housing Units from year to year:\n",
            " -795.0\n",
            " -303.0\n",
            " 1404.0\n",
            " 1565.0\n",
            " 2622.0\n",
            " 5091.0\n",
            "    NaN\n",
            " \n"
          ]
        }
      ]
    },
    {
      "cell_type": "code",
      "source": [
        "print ('\\n\\n\\nPercentage of vacant and occupied housing units')\t\n",
        "for year in housingData:\n",
        "\ttotal = housingData[year]['Total Housing Units']\n",
        "\toccupied = housingData[year]['Occupied Housing Units']\n",
        "\tvacant = housingData[year]['Vacant Housing Units']\n",
        "\toccupiedPercent = (occupied / total) * 100\n",
        "\tvacantPercent = (vacant / total) * 100\n",
        "\tprint (year, str(round(occupiedPercent, 2)) + \"%\", str(round(vacantPercent, 2)) + \"%\")\n",
        "\n",
        "#Code for years and value in which the highest number of housing units were vacant and occupied.\n",
        "print ('\\n\\n\\n')\n",
        "maxVacant = 0\n",
        "yearVacant = None\n",
        "maxOccupied = 0\n",
        "yearOccupied = None\n",
        "for year in housingData:\n",
        "\tif housingData[year]['Occupied Housing Units'] > maxOccupied:\n",
        "\t\tmaxOccupied = housingData[year]['Occupied Housing Units']\n",
        "\t\tyearOccupied = year\n",
        "\tif housingData[year]['Vacant Housing Units'] > maxVacant:\n",
        "\t\tmaxVacant = housingData[year]['Vacant Housing Units']\n",
        "\t\tyearVacant = year\n",
        "\n"
      ],
      "metadata": {
        "colab": {
          "base_uri": "https://localhost:8080/"
        },
        "id": "uDTNesG_ocG3",
        "outputId": "c824ab72-4164-4fd6-fd41-591337e885e9"
      },
      "execution_count": 37,
      "outputs": [
        {
          "output_type": "stream",
          "name": "stdout",
          "text": [
            "\n",
            "\n",
            "\n",
            "Percentage of vacant and occupied housing units\n",
            "2014 94.27% 5.73%\n",
            "2013 91.2% 8.8%\n",
            "2012 93.32% 6.68%\n",
            "2011 90.62% 9.38%\n",
            "2010 91.86% 8.14%\n",
            "2009 90.93% 9.07%\n",
            "2008 89.12% 10.88%\n",
            "\n",
            "\n",
            "\n",
            "\n"
          ]
        }
      ]
    },
    {
      "cell_type": "code",
      "source": [
        "import pandas as pd\n",
        "file_url = \"https://raw.githubusercontent.com/unt-iialab/info5731-fall2021/main/assignments/Assignment1_denton_housing.csv\"\n",
        "df=p.read_csv(file_url)\n",
        "df[df['title_field'] == 'Vct Housing Units']\n",
        "\n",
        "Max_value_vct=df.loc[df['title_field'] == 'Vacant Housing Units']\n",
        "Max1=Max_value_vct[Max_value_vct.value == Max_value_vct.value.max()]\n",
        "\n",
        "Max_value_occ=df.loc[df['title_field'] == 'Occupied Housing Units']\n",
        "Max2=Max_value_occ[Max_value_occ.value == Max_value_occ.value.max()]\n",
        "\n",
        "df1=pd.concat([Max1,Max2])\n",
        "df1_final = df1[['title_field','year','value']]\n",
        "print(df1_final.to_string(index=False))\n",
        "print(\" \")"
      ],
      "metadata": {
        "colab": {
          "base_uri": "https://localhost:8080/"
        },
        "id": "xFUKVohNokkQ",
        "outputId": "d7455513-d0e5-42b9-a2cf-7156a3f78d67"
      },
      "execution_count": 38,
      "outputs": [
        {
          "output_type": "stream",
          "name": "stdout",
          "text": [
            "            title_field  year  value\n",
            "   Vacant Housing Units  2008   4483\n",
            " Occupied Housing Units  2014  46295\n",
            " \n"
          ]
        }
      ]
    },
    {
      "cell_type": "code",
      "source": [
        "import pandas as p\n",
        "import numpy as n\n",
        "from scipy import stats\n",
        "file_url = \"https://raw.githubusercontent.com/unt-iialab/info5731-fall2021/main/assignments/Assignment1_denton_housing.csv\"\n",
        "read_csv_file = p.read_csv(file_url)\n",
        "read_csv_file=read_csv_file[read_csv_file['title_field']=='Total Housing Units']\n",
        "harmonic_mean=stats.hmean(read_csv_file['value'])\n",
        "print(f\"Hormonic Mean :  {harmonic_mean}\")"
      ],
      "metadata": {
        "colab": {
          "base_uri": "https://localhost:8080/"
        },
        "id": "xwW7CgXlouNK",
        "outputId": "5a26abc0-ea9a-428d-cd5c-083bed557330"
      },
      "execution_count": 39,
      "outputs": [
        {
          "output_type": "stream",
          "name": "stdout",
          "text": [
            "Hormonic Mean :  44398.28543969185\n"
          ]
        }
      ]
    }
  ],
  "metadata": {
    "colab": {
      "collapsed_sections": [],
      "name": "INFO5731_Assignment_One.ipynb",
      "provenance": [],
      "include_colab_link": true
    },
    "kernelspec": {
      "display_name": "Python 3",
      "language": "python",
      "name": "python3"
    },
    "language_info": {
      "codemirror_mode": {
        "name": "ipython",
        "version": 3
      },
      "file_extension": ".py",
      "mimetype": "text/x-python",
      "name": "python",
      "nbconvert_exporter": "python",
      "pygments_lexer": "ipython3",
      "version": "3.8.5"
    }
  },
  "nbformat": 4,
  "nbformat_minor": 0
}